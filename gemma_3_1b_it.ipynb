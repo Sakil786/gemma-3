{
  "nbformat": 4,
  "nbformat_minor": 0,
  "metadata": {
    "colab": {
      "provenance": []
    },
    "kernelspec": {
      "name": "python3",
      "display_name": "Python 3"
    },
    "language_info": {
      "name": "python"
    }
  },
  "cells": [
    {
      "cell_type": "code",
      "execution_count": null,
      "metadata": {
        "id": "_ZjgsZ1Z1-9e"
      },
      "outputs": [],
      "source": [
        "!pip install langchain_nvidia_ai_endpoints"
      ]
    },
    {
      "cell_type": "code",
      "source": [
        "from langchain_nvidia_ai_endpoints import ChatNVIDIA\n",
        "\n",
        "client = ChatNVIDIA(\n",
        "  model=\"google/gemma-3-1b-it\",\n",
        "  api_key=\"API_KEY_REQUIRED\",\n",
        "  temperature=0.1,\n",
        "  top_p=0.9,\n",
        "  max_tokens=512,\n",
        ")\n",
        "\n",
        "for chunk in client.stream([{\"role\":\"user\",\"content\":\"Explain about AI Agent.\"}]):\n",
        "  print(chunk.content, end=\"\")\n",
        "\n",
        "\n"
      ],
      "metadata": {
        "colab": {
          "base_uri": "https://localhost:8080/"
        },
        "id": "StXMBZzG2AAy",
        "outputId": "d5c2a475-3a78-4f27-a876-8a43d39b2088"
      },
      "execution_count": 6,
      "outputs": [
        {
          "output_type": "stream",
          "name": "stderr",
          "text": [
            "/usr/local/lib/python3.11/dist-packages/langchain_nvidia_ai_endpoints/_common.py:212: UserWarning: Found google/gemma-3-1b-it in available_models, but type is unknown and inference may fail.\n",
            "  warnings.warn(\n"
          ]
        },
        {
          "output_type": "stream",
          "name": "stdout",
          "text": [
            "Okay, let's break down what an AI Agent is. It's a really fascinating and rapidly evolving concept in the world of Artificial Intelligence. Here's a breakdown, covering the key aspects:\n",
            "\n",
            "**1. What is an AI Agent?**\n",
            "\n",
            "At its core, an AI Agent is an autonomous entity – a program or system – that can perceive its environment, reason about it, and take actions to achieve a goal.  It's essentially a digital agent that can *act* in the world, not just react to it.\n",
            "\n",
            "**2. Key Components of an AI Agent:**\n",
            "\n",
            "* **Perception:**  The agent needs to \"see\" and \"hear\" its environment. This involves sensors (cameras, microphones, sensors) that gather data about the surroundings.\n",
            "* **Reasoning:** The agent uses its knowledge and learned rules to understand the situation and make decisions. This often involves techniques like:\n",
            "    * **Planning:** Figuring out a sequence of actions to reach a goal.\n",
            "    * **Knowledge Representation:** Storing and organizing information about the world.\n",
            "    * **Reasoning:** Drawing conclusions from available information.\n",
            "* **Action Selection:**  The agent chooses the actions it will take to achieve its goals.\n",
            "* **Action Execution:** The agent carries out those actions in the environment.\n",
            "* **Feedback:** The agent receives feedback on the results of its actions, allowing it to adjust its behavior.\n",
            "\n",
            "**2. Types of AI Agents:**\n",
            "\n",
            "* **Reactive Agents:** These agents react directly to the current situation. They have no memory of past experiences. (e.g., a simple thermostat that turns on when it senses the temperature is too low.)\n",
            "* **Goal-Oriented Agents:** These agents have a specific goal and strive to achieve it. They use planning and reasoning to find the best way to reach their goal. (e.g., a robot navigating a room to find a specific object.)\n",
            "* **Autonomous Agents:** These agents can operate independently, without human intervention. They can learn and adapt to new situations. (e.g., self-driving cars, robotic assistants.)\n",
            "\n",
            "**2. Examples of AI Agents:**\n",
            "\n",
            "* **Virtual Assistants (Siri, Alexa, Google Assistant):** These agents understand voice commands and perform tasks like setting alarms, playing music, and answering questions.\n",
            "* **Robots:** Industrial robots, delivery robots, and service robots all use AI agents to perform tasks.\n",
            "*\n",
            "*\n",
            "*\n",
            "****"
          ]
        }
      ]
    },
    {
      "cell_type": "code",
      "source": [],
      "metadata": {
        "id": "YCuFbFoS2E1A"
      },
      "execution_count": null,
      "outputs": []
    }
  ]
}